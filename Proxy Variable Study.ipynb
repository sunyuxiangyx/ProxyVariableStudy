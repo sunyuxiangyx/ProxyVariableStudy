{
 "cells": [
  {
   "cell_type": "code",
   "execution_count": 1,
   "id": "1011ef29",
   "metadata": {
    "id": "1011ef29"
   },
   "outputs": [],
   "source": [
    "import torch\n",
    "import pandas as pd\n",
    "import numpy as np\n",
    "from torch.utils.data import Dataset, DataLoader\n",
    "from sklearn.preprocessing import normalize\n",
    "import sklearn.utils\n",
    "import matplotlib.pyplot as plt\n",
    "device = torch.device(\"cuda\" if torch.cuda.is_available() else \"cpu\")\n",
    "np.set_printoptions(precision=4)\n",
    "np.set_printoptions(suppress=True)\n",
    "torch.set_printoptions(precision=4)\n",
    "torch.set_printoptions(sci_mode=False)\n",
    "from imblearn.over_sampling import SMOTE"
   ]
  },
  {
   "cell_type": "code",
   "execution_count": 2,
   "id": "7b8facc0",
   "metadata": {
    "id": "7b8facc0"
   },
   "outputs": [],
   "source": [
    "csv_data = pd.read_csv('application_record.csv')\n",
    "\n",
    "# Some Preprocessing\n",
    "csv_data = csv_data.drop_duplicates('ID', keep='last').copy()\n",
    "csv_data['DAYS_BIRTH'] = round(csv_data['DAYS_BIRTH']/-365,0)\n",
    "csv_data.rename(columns={'DAYS_BIRTH':'AGE_YEARS'}, inplace=True)\n",
    "csv_data['DAYS_EMPLOYED'].replace(365243, 0, inplace=True)\n",
    "csv_data['DAYS_EMPLOYED'] = abs(round(csv_data['DAYS_EMPLOYED']/-365,0))\n",
    "csv_data.rename(columns={'DAYS_EMPLOYED':'YEARS_EMPLOYED'}, inplace=True)\n",
    "csv_data.drop('FLAG_MOBIL', axis=1, inplace=True)\n",
    "\n",
    "# Remove Outlier\n",
    "high_bound = csv_data['CNT_CHILDREN'].quantile(0.999)\n",
    "low_bound = csv_data['CNT_CHILDREN'].quantile(0.001)\n",
    "csv_data = csv_data[(csv_data['CNT_CHILDREN']>=low_bound) & (csv_data['CNT_CHILDREN']<=high_bound)]\n",
    "\n",
    "high_bound = csv_data['AMT_INCOME_TOTAL'].quantile(0.999)\n",
    "low_bound = csv_data['AMT_INCOME_TOTAL'].quantile(0.001)\n",
    "csv_data = csv_data[(csv_data['AMT_INCOME_TOTAL']>=low_bound) & (csv_data['AMT_INCOME_TOTAL']<=high_bound)]\n",
    "\n",
    "high_bound = csv_data['YEARS_EMPLOYED'].quantile(0.999)\n",
    "low_bound = csv_data['YEARS_EMPLOYED'].quantile(0.001)\n",
    "csv_data = csv_data[(csv_data['YEARS_EMPLOYED']>=low_bound) & (csv_data['YEARS_EMPLOYED']<=high_bound)]\n",
    "\n",
    "high_bound = csv_data['CNT_FAM_MEMBERS'].quantile(0.999)\n",
    "low_bound = csv_data['CNT_FAM_MEMBERS'].quantile(0.001)\n",
    "csv_data = csv_data[(csv_data['CNT_FAM_MEMBERS']>=low_bound) & (csv_data['CNT_FAM_MEMBERS']<=high_bound)]\n",
    "\n",
    "# Using dummy variable to handle categorical data\n",
    "one_hot = pd.get_dummies(csv_data)"
   ]
  },
  {
   "cell_type": "code",
   "execution_count": 3,
   "id": "hhCM2--cYR2A",
   "metadata": {
    "colab": {
     "base_uri": "https://localhost:8080/",
     "height": 206
    },
    "id": "hhCM2--cYR2A",
    "outputId": "8837c37e-214b-43f0-b32d-a666aa134928"
   },
   "outputs": [],
   "source": [
    "credit_df = pd.read_csv('credit_record.csv')\n",
    "\n",
    "# Some Preprocessing\n",
    "credit_df['STATUS'].replace(['C', 'X'],0, inplace=True)\n",
    "credit_df['STATUS'].replace(['2','3','4','5'],1, inplace=True)\n",
    "credit_df['STATUS'] = credit_df['STATUS'].astype('int')\n",
    "credit_df_trans = credit_df.groupby('ID').agg(max).reset_index()\n",
    "credit_df_trans.drop('MONTHS_BALANCE', axis=1, inplace=True)"
   ]
  },
  {
   "cell_type": "code",
   "execution_count": 4,
   "id": "jY8clUEdY3ZM",
   "metadata": {
    "id": "jY8clUEdY3ZM"
   },
   "outputs": [],
   "source": [
    "# Merge\n",
    "final_df = pd.merge(one_hot, credit_df_trans, on='ID', how='inner')\n",
    "final_df.drop('ID', axis=1, inplace=True)"
   ]
  },
  {
   "cell_type": "code",
   "execution_count": 5,
   "id": "7aa55b33",
   "metadata": {
    "id": "7aa55b33"
   },
   "outputs": [],
   "source": [
    "# Normalize & Split to input and label\n",
    "normalized_df=(final_df-final_df.min())/(final_df.max()-final_df.min())\n",
    "X = normalized_df[normalized_df.columns[:-1]]\n",
    "y = normalized_df[normalized_df.columns[-1:]]"
   ]
  },
  {
   "cell_type": "code",
   "execution_count": 6,
   "id": "f87a7d46",
   "metadata": {
    "id": "f87a7d46"
   },
   "outputs": [],
   "source": [
    "# Upsampling responsble to label to solve imbalanced learn\n",
    "oversample = SMOTE(random_state = 42)\n",
    "X_over, y_over = oversample.fit_resample(X, y)\n",
    "normalized_df = pd.concat([X_over, y_over],axis=1)"
   ]
  },
  {
   "cell_type": "code",
   "execution_count": 7,
   "id": "3a2449dc",
   "metadata": {
    "id": "3a2449dc"
   },
   "outputs": [],
   "source": [
    "# Shuffle\n",
    "normalized_df = sklearn.utils.shuffle(normalized_df, random_state = 1)\n",
    "normalized_df = normalized_df.reset_index(drop = True)"
   ]
  },
  {
   "cell_type": "code",
   "execution_count": 8,
   "id": "5d9c63df",
   "metadata": {
    "id": "5d9c63df"
   },
   "outputs": [],
   "source": [
    "# Merge & Zero out some colume\n",
    "ndf_value = normalized_df.values\n",
    "\n",
    "merge_occupy = False\n",
    "zero_out = False\n",
    "\n",
    "if merge_occupy:\n",
    "    for pairs in [[45, 49], [38, 41], [51, 36], [44, 48]]:\n",
    "        x, y = pairs \n",
    "        ndf_value[:,x] += ndf_value[:, y]\n",
    "        ndf_value[:, y] = np.zeros(ndf_value[:, y].shape)\n",
    "\n",
    "\n",
    "if zero_out:\n",
    "    for col in [40, 42]:\n",
    "        ndf_value[:, col] = np.zeros(ndf_value[:, col].shape)\n",
    "        \n",
    "# Split to training and test set\n",
    "train_set = ndf_value[:-4000]\n",
    "test_set = ndf_value[-4000:]"
   ]
  },
  {
   "cell_type": "code",
   "execution_count": 9,
   "id": "95098307",
   "metadata": {
    "id": "95098307"
   },
   "outputs": [],
   "source": [
    "# Remove gender information from input and extract then to label\n",
    "gender_mask = np.asarray(list(map(lambda x: \"GENDER\" in x, normalized_df.columns)))\n",
    "def get_label(data):\n",
    "    data = data * gender_mask\n",
    "    data = data[:, ~np.all(np.swapaxes(data,0,1) == 0, axis=1)]\n",
    "    return data\n",
    "\n",
    "train_input = train_set * ( 1 -  gender_mask)\n",
    "test_input = test_set * ( 1 -  gender_mask)\n",
    "train_label = get_label(train_set)\n",
    "test_label = get_label(test_set)"
   ]
  },
  {
   "cell_type": "code",
   "execution_count": 10,
   "id": "4ZwKLHf1ZxiI",
   "metadata": {
    "id": "4ZwKLHf1ZxiI"
   },
   "outputs": [],
   "source": [
    "class FraudInferDataset(Dataset):\n",
    "    def __init__(self, inputs, gender):\n",
    "        self.inputs = torch.tensor(inputs, dtype=torch.float32).to(device)\n",
    "        self.labels = torch.cat([self.inputs[:,-1:], 1-self.inputs[:,-1:]], dim=1)\n",
    "        self.inputs = self.inputs[:,:-1]\n",
    "        self.gender = torch.tensor(np.round(gender), dtype=torch.float32).to(device)\n",
    "    \n",
    "    def __len__(self):\n",
    "        return self.labels.shape[0]\n",
    "    def __getitem__(self, idx):\n",
    "        return self.inputs[idx], self.labels[idx], self.gender[idx]\n",
    "\n",
    "fraud_train_loader = DataLoader(FraudInferDataset(train_input, train_label), batch_size = 64)\n",
    "fraud_test_loader = DataLoader(FraudInferDataset(test_input, test_label), batch_size = 64)"
   ]
  },
  {
   "cell_type": "code",
   "execution_count": 11,
   "id": "1a924344",
   "metadata": {
    "id": "1a924344"
   },
   "outputs": [],
   "source": [
    "class GenderInferDataset(Dataset):\n",
    "    def __init__(self, inputs, labels):\n",
    "        self.inputs = torch.tensor(inputs,dtype=torch.float32).to(device)[:,:-1]\n",
    "        self.labels = torch.tensor(labels,dtype=torch.float32).to(device)\n",
    "\n",
    "    def __len__(self):\n",
    "        return self.labels.shape[0]\n",
    "    def __getitem__(self, idx):\n",
    "        return self.inputs[idx], self.labels[idx]\n",
    "\n",
    "gender_train_loader = DataLoader(GenderInferDataset(train_input, train_label), batch_size = 64)\n",
    "gender_test_loader = DataLoader(GenderInferDataset(test_input, test_label), batch_size = 64)"
   ]
  },
  {
   "cell_type": "code",
   "execution_count": 12,
   "id": "9vZVsc2jbcsW",
   "metadata": {
    "id": "9vZVsc2jbcsW"
   },
   "outputs": [],
   "source": [
    "class InferNet(torch.nn.Module):\n",
    "    def __init__(self, input_dim = 0):\n",
    "        super(InferNet, self).__init__()\n",
    "        self.linear1 = torch.nn.Linear(input_dim, 1024)\n",
    "        self.linear2 = torch.nn.Linear(1024, 1024)\n",
    "        self.linear3 = torch.nn.Linear(1024, 2)\n",
    "        self.activation = torch.nn.LeakyReLU()\n",
    "        self.softmax = torch.nn.Softmax(dim=1)\n",
    "        self.dropout = torch.nn.Dropout(0.1)\n",
    "\n",
    "    def forward(self, x):\n",
    "        x = self.linear1(x)\n",
    "        x = self.activation(x)\n",
    "        \n",
    "        #x = self.dropout(x)\n",
    "        x = self.linear2(x)\n",
    "        x = self.activation(x)\n",
    "        #x = self.dropout(x)\n",
    "        x = self.linear3(x)\n",
    "        return torch.nn.functional.normalize(x,p=1)\n",
    "\n",
    "# Calculate imput dim\n",
    "inpt_sample,_,_ = FraudInferDataset(train_input, train_label)[0]\n",
    "input_dim = inpt_sample.shape[0]\n",
    "\n",
    "# Init Fraud inferer\n",
    "fraud_infer = InferNet(input_dim).to(device)\n",
    "fraud_optimizer = torch.optim.SGD(fraud_infer.parameters(), lr=0.01, momentum=0.9)  \n",
    "\n",
    "# Init Gender Inferer\n",
    "gender_infer = InferNet(input_dim).to(device)\n",
    "gender_optimizer = torch.optim.SGD(gender_infer.parameters(), lr=0.01, momentum=0.9) \n",
    "\n",
    "# Loss Function\n",
    "criterion = torch.nn.MSELoss()"
   ]
  },
  {
   "cell_type": "code",
   "execution_count": null,
   "id": "6869dcea",
   "metadata": {
    "id": "6869dcea"
   },
   "outputs": [],
   "source": [
    "# Train Gender Inferer\n",
    "for epoch in range(200): \n",
    "\n",
    "    running_loss = 0.0\n",
    "    for i, data in enumerate(gender_train_loader, 0):\n",
    "\n",
    "        inputs, labels = data\n",
    "        gender_optimizer.zero_grad()\n",
    "        outputs = gender_infer(inputs)\n",
    "        loss = criterion(outputs, labels)\n",
    "        loss.backward()\n",
    "        gender_optimizer.step()\n",
    "\n",
    " \n",
    "        running_loss += loss.item()\n",
    "        if i % 200 == 199:   \n",
    "            print(f'[{epoch + 1}, {i + 1:5d}] loss: {running_loss / 200:.8f}')\n",
    "            running_loss = 0.0\n",
    "\n",
    "print('Finished Gender Inferer Training')"
   ]
  },
  {
   "cell_type": "code",
   "execution_count": 14,
   "id": "9bd0427c",
   "metadata": {
    "colab": {
     "base_uri": "https://localhost:8080/"
    },
    "id": "9bd0427c",
    "outputId": "73c64418-b443-4c3c-d2be-aaaaf1a4f4e4"
   },
   "outputs": [
    {
     "name": "stdout",
     "output_type": "stream",
     "text": [
      "Accuracy of the network on the 4000 cases: 98.075 %\n",
      "Number of Wrong Prediction: Actually Famele: 52, Actully Male: 25\n"
     ]
    }
   ],
   "source": [
    "# Gender Inferer Accuracy Test\n",
    "correct = 0\n",
    "total = 0\n",
    "f_total_wrong = 0\n",
    "m_total_wrong = 0\n",
    "\n",
    "with torch.no_grad():\n",
    "\n",
    "    for data in gender_test_loader:\n",
    "      \n",
    "        images, labels = data\n",
    "        outputs = gender_infer(images)\n",
    "        _, predicted = torch.max(outputs.data, 1)\n",
    "        _, real = torch.max(labels.data, 1)\n",
    "\n",
    "        \n",
    "        f_total_wrong += ((predicted < real)).sum().item()\n",
    "        m_total_wrong += ((predicted > real)).sum().item()\n",
    "\n",
    "        total += labels.size(0)\n",
    "        correct += (predicted == real).sum().item()\n",
    "\n",
    "print(f'Accuracy of the network on the 4000 cases: {100 * correct / total} %')\n",
    "print(f\"Number of Wrong Prediction: Actually Famele: {f_total_wrong}, Actully Male: {m_total_wrong}\")"
   ]
  },
  {
   "cell_type": "code",
   "execution_count": null,
   "id": "RaNr8xj-w5-_",
   "metadata": {
    "id": "RaNr8xj-w5-_",
    "scrolled": false
   },
   "outputs": [],
   "source": [
    "# Train Fraud Inferer\n",
    "for epoch in range(200): \n",
    "\n",
    "    running_loss = 0.0\n",
    "    for i, data in enumerate(fraud_train_loader, 0):\n",
    "        inputs, labels,_ = data\n",
    "        fraud_optimizer.zero_grad()\n",
    "        outputs = fraud_infer(inputs)\n",
    "        loss = criterion(outputs, labels)\n",
    "        loss.backward()\n",
    "        fraud_optimizer.step()\n",
    "\n",
    "        \n",
    "        running_loss += loss.item()\n",
    "        if i % 200 == 199:    \n",
    "            print(f'[{epoch + 1}, {i + 1:5d}] loss: {running_loss / 200:.8f}')\n",
    "            running_loss = 0.0\n",
    "\n",
    "print('Finished Fraud Inferer Training')"
   ]
  },
  {
   "cell_type": "code",
   "execution_count": 15,
   "id": "4VaoNogJZuzw",
   "metadata": {
    "colab": {
     "base_uri": "https://localhost:8080/"
    },
    "id": "4VaoNogJZuzw",
    "outputId": "053e97d3-4fab-4367-a848-41d589e7f3a1"
   },
   "outputs": [
    {
     "name": "stdout",
     "output_type": "stream",
     "text": [
      "Accuracy of the network on the 4000 cases: 85.3 %\n",
      "Female False Positive: 113\n",
      "Female False Negative: 279\n",
      "Male False Positive: 32\n",
      "Male False Negative: 164\n"
     ]
    }
   ],
   "source": [
    "# Gender Inferer Accuracy Test\n",
    "correct = 0\n",
    "total = 0\n",
    "f_fp_total = 0 # Female False Positive\n",
    "f_fn_total = 0\n",
    "m_fp_total = 0\n",
    "m_fn_total = 0\n",
    "\n",
    "with torch.no_grad():\n",
    "\n",
    "    for data in fraud_test_loader:\n",
    "\n",
    "        images, labels, gender = data\n",
    "        outputs = fraud_infer(images)\n",
    "        _, predicted = torch.max(outputs.data, 1)\n",
    "        _, real = torch.max(labels.data, 1)\n",
    "        \n",
    "        f_fp_total += ((predicted > real) * gender[:, 0]).sum().item()\n",
    "        f_fn_total += ((predicted < real) * gender[:, 0]).sum().item()\n",
    "        m_fp_total += ((predicted > real) * gender[:, 1]).sum().item()\n",
    "        m_fn_total += ((predicted < real) * gender[:, 1]).sum().item()\n",
    "\n",
    "        total += labels.size(0)\n",
    "        correct += (predicted == real).sum().item()\n",
    "\n",
    "print(f'Accuracy of the network on the 4000 cases: {100 * correct / total} %')\n",
    "print(\"Female False Positive:\", int(f_fp_total))\n",
    "print(\"Female False Negative:\", int(f_fn_total))\n",
    "print(\"Male False Positive:\", int(m_fp_total))\n",
    "print(\"Male False Negative:\", int(m_fn_total))"
   ]
  },
  {
   "cell_type": "code",
   "execution_count": null,
   "id": "ABojbm6I3Oan",
   "metadata": {
    "id": "ABojbm6I3Oan"
   },
   "outputs": [],
   "source": [
    "# Save Models\n",
    "if merge_occupy and zero_out:\n",
    "  torch.save(gender_infer.state_dict(), \"./gender_model_merge_and_zero.pts\")\n",
    "  torch.save(fraud_infer.state_dict(), \"./fraud_model_merge_and_zero.pts\")\n",
    "else:\n",
    "  torch.save(gender_infer.state_dict(), \"./gender_model_origin.pts\")\n",
    "  torch.save(fraud_infer.state_dict(), \"./fraud_model_orogin.pts\")"
   ]
  },
  {
   "cell_type": "code",
   "execution_count": 13,
   "id": "4OxEr0A05luL",
   "metadata": {
    "colab": {
     "base_uri": "https://localhost:8080/"
    },
    "id": "4OxEr0A05luL",
    "outputId": "0192061a-93b4-4f7d-b5ef-14948369ab89"
   },
   "outputs": [
    {
     "data": {
      "text/plain": [
       "InferNet(\n",
       "  (linear1): Linear(in_features=53, out_features=1024, bias=True)\n",
       "  (linear2): Linear(in_features=1024, out_features=1024, bias=True)\n",
       "  (linear3): Linear(in_features=1024, out_features=2, bias=True)\n",
       "  (activation): LeakyReLU(negative_slope=0.01)\n",
       "  (softmax): Softmax(dim=1)\n",
       "  (dropout): Dropout(p=0.1, inplace=False)\n",
       ")"
      ]
     },
     "execution_count": 13,
     "metadata": {},
     "output_type": "execute_result"
    }
   ],
   "source": [
    "# Load Models\n",
    "if merge_occupy and zero_out:\n",
    "  gender_infer.load_state_dict(torch.load(\"gender_model_merge_and_zero.pts\",map_location=torch.device('cpu')))\n",
    "  fraud_infer.load_state_dict(torch.load(\"fraud_model_merge_and_zero.pts\",map_location=torch.device('cpu')))\n",
    "else:\n",
    "  gender_infer.load_state_dict(torch.load(\"gender_model_origin.pts\",map_location=torch.device('cpu')))\n",
    "  fraud_infer.load_state_dict(torch.load(\"fraud_model_orogin.pts\",map_location=torch.device('cpu')))\n",
    "\n",
    "gender_infer.to(device).eval()\n",
    "fraud_infer.to(device).eval()\n"
   ]
  },
  {
   "cell_type": "code",
   "execution_count": null,
   "id": "vPp_ISevxeWp",
   "metadata": {
    "id": "vPp_ISevxeWp"
   },
   "outputs": [],
   "source": [
    "# Impact Analysis\n",
    "x = torch.zeros([input_dim, input_dim]).to(device)\n",
    "d0_fraud = fraud_infer(x)\n",
    "d0_gender = gender_infer(x)\n",
    "\n",
    "for i in range(input_dim):\n",
    "  x[i][i] = 1.\n",
    "\n",
    "d1_fraud = fraud_infer(x)\n",
    "d1_gender = gender_infer(x)\n",
    "delta_fraud = d1_fraud - d0_fraud\n",
    "delta_gender = d1_gender - d0_gender"
   ]
  },
  {
   "cell_type": "code",
   "execution_count": null,
   "id": "HObjA_uqXDXT",
   "metadata": {
    "colab": {
     "base_uri": "https://localhost:8080/"
    },
    "id": "HObjA_uqXDXT",
    "outputId": "3bb1341d-2fd9-4ad4-eaa8-96d179515566",
    "scrolled": true
   },
   "outputs": [],
   "source": [
    "\n",
    "print(f\"G(o_i) - G(0) \\t F(o_i)  - F(0)  Feature Idx\\tFeature\")\n",
    "for feature, dg, df in sorted(list(zip(list(enumerate(normalized_df.columns)), delta_gender[:,0], delta_fraud[:,0])), key = lambda x:x[2]):\n",
    "  print(f\"{dg.tolist():.6f},\\t {df.tolist():.6f},\\t {feature[0]}\\t\\t{feature[1]}\")"
   ]
  }
 ],
 "metadata": {
  "accelerator": "GPU",
  "colab": {
   "collapsed_sections": [],
   "name": "CS_497_colab_merge.ipynb",
   "provenance": []
  },
  "kernelspec": {
   "display_name": "Python 3 (ipykernel)",
   "language": "python",
   "name": "python3"
  },
  "language_info": {
   "codemirror_mode": {
    "name": "ipython",
    "version": 3
   },
   "file_extension": ".py",
   "mimetype": "text/x-python",
   "name": "python",
   "nbconvert_exporter": "python",
   "pygments_lexer": "ipython3",
   "version": "3.9.7"
  }
 },
 "nbformat": 4,
 "nbformat_minor": 5
}
